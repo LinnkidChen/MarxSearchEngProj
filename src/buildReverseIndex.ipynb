{
 "cells": [
  {
   "cell_type": "code",
   "execution_count": 3,
   "metadata": {},
   "outputs": [],
   "source": [
    "import os\n",
    "import jieba\n",
    "import json\n",
    "\n",
    "\n"
   ]
  },
  {
   "cell_type": "code",
   "execution_count": null,
   "metadata": {},
   "outputs": [],
   "source": [
    "#DEFINES\n",
    "docDir = '../data/docs'\n",
    "indexDir = '../data/index'\n",
    "fileList = []\n",
    "# docDir = os.path.join(os.path.dirname(os.path.abspath(__file__)), docDir)\n",
    "# indexDir = os.path.join(os.path.dirname(os.path.abspath(__file__)), indexDir)\n"
   ]
  },
  {
   "cell_type": "code",
   "execution_count": 1,
   "metadata": {},
   "outputs": [
    {
     "ename": "NameError",
     "evalue": "name 'docDir' is not defined",
     "output_type": "error",
     "traceback": [
      "\u001b[0;31m---------------------------------------------------------------------------\u001b[0m",
      "\u001b[0;31mNameError\u001b[0m                                 Traceback (most recent call last)",
      "\u001b[1;32m/Users/tongchen/Documents/GitHub/MarxSearchEngProj/src/buildReverseIndex.ipynb Cell 3'\u001b[0m in \u001b[0;36m<cell line: 1>\u001b[0;34m()\u001b[0m\n\u001b[0;32m----> <a href='vscode-notebook-cell:/Users/tongchen/Documents/GitHub/MarxSearchEngProj/src/buildReverseIndex.ipynb#ch0000002?line=0'>1</a>\u001b[0m \u001b[39mfor\u001b[39;00m root, dirs, files \u001b[39min\u001b[39;00m os\u001b[39m.\u001b[39mwalk(docDir):\n\u001b[1;32m      <a href='vscode-notebook-cell:/Users/tongchen/Documents/GitHub/MarxSearchEngProj/src/buildReverseIndex.ipynb#ch0000002?line=1'>2</a>\u001b[0m     \u001b[39mfor\u001b[39;00m name \u001b[39min\u001b[39;00m files:\n\u001b[1;32m      <a href='vscode-notebook-cell:/Users/tongchen/Documents/GitHub/MarxSearchEngProj/src/buildReverseIndex.ipynb#ch0000002?line=2'>3</a>\u001b[0m         tempPath \u001b[39m=\u001b[39m os\u001b[39m.\u001b[39mpath\u001b[39m.\u001b[39mjoin(root, name)\n",
      "\u001b[0;31mNameError\u001b[0m: name 'docDir' is not defined"
     ]
    }
   ],
   "source": [
    "for root, dirs, files in os.walk(docDir):\n",
    "    for name in files:\n",
    "        tempPath = os.path.join(root, name)\n",
    "        if tempPath[-4:] == '.txt':\n",
    "            fileList.append(os.path.join(root, name))\n"
   ]
  },
  {
   "cell_type": "code",
   "execution_count": null,
   "metadata": {},
   "outputs": [],
   "source": [
    "with open(os.path.join(indexDir,'fileList.json')) as fd:\n",
    "    json.dumps(fileList,fd,ensure_ascii=False)"
   ]
  },
  {
   "cell_type": "code",
   "execution_count": null,
   "metadata": {},
   "outputs": [],
   "source": [
    "index_dict = {}\n",
    "print(1)\n"
   ]
  },
  {
   "cell_type": "code",
   "execution_count": null,
   "metadata": {},
   "outputs": [],
   "source": [
    "for file in fileList:\n",
    "    fd = open(file, \"r\")\n",
    "    lineCount = 1\n",
    "    for line in fd:\n",
    "        seg_list = jieba.lcut_for_search(line)\n",
    "        for word in seg_list:\n",
    "            try:\n",
    "                index_dict[word]\n",
    "            except:\n",
    "                index_dict[word] = {}\n",
    "\n",
    "            try:\n",
    "                index_dict[word][file]\n",
    "            except:\n",
    "                index_dict[word][file] = []\n",
    "\n",
    "            index_dict[word][file].append(lineCount)\n",
    "        lineCount = lineCount+1\n"
   ]
  },
  {
   "cell_type": "code",
   "execution_count": null,
   "metadata": {},
   "outputs": [],
   "source": [
    "with open(os.path.join(indexDir,'rverIndex.json'), 'w') as jfd:\n",
    "    json.dump(index_dict,jfd,ensure_ascii=False)"
   ]
  },
  {
   "cell_type": "code",
   "execution_count": null,
   "metadata": {},
   "outputs": [],
   "source": [
    "with open(os.path.join(indexDir, 'rverIndex.json'), 'r') as jfd:\n",
    "    tempdict = json.load(jfd)\n",
    "\n",
    "print(tempdict)\n"
   ]
  }
 ],
 "metadata": {
  "interpreter": {
   "hash": "c825d74f3e65a07644e86880e93b5d0e0d3aae63d9aa253e729e0e11920a4eb4"
  },
  "kernelspec": {
   "display_name": "Python 3.9.12",
   "language": "python",
   "name": "python3"
  },
  "language_info": {
   "codemirror_mode": {
    "name": "ipython",
    "version": 3
   },
   "file_extension": ".py",
   "mimetype": "text/x-python",
   "name": "python",
   "nbconvert_exporter": "python",
   "pygments_lexer": "ipython3",
   "version": "3.9.13"
  },
  "orig_nbformat": 4
 },
 "nbformat": 4,
 "nbformat_minor": 2
}
