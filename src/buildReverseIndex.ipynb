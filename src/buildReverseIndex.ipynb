{
 "cells": [
  {
   "cell_type": "code",
   "execution_count": null,
   "metadata": {},
   "outputs": [],
   "source": [
    "import os\n",
    "import jieba\n",
    "import json\n",
    "\n",
    "\n"
   ]
  },
  {
   "cell_type": "code",
   "execution_count": null,
   "metadata": {},
   "outputs": [],
   "source": []
  },
  {
   "cell_type": "code",
   "execution_count": null,
   "metadata": {},
   "outputs": [],
   "source": [
    "#DEFINES\n",
    "docDir = '../data/docs'\n",
    "indexDir = '../data/index'\n",
    "fileList = []\n",
    "# docDir = os.path.join(os.path.dirname(os.path.abspath(__file__)), docDir)\n",
    "# indexDir = os.path.join(os.path.dirname(os.path.abspath(__file__)), indexDir)\n"
   ]
  },
  {
   "cell_type": "code",
   "execution_count": null,
   "metadata": {},
   "outputs": [],
   "source": [
    "def validIndex(text):\n",
    "    # for python 3.x\n",
    "    # sample: ishan('一') == True, ishan('我&&你') == False\n",
    "    return all('\\u4e00' <= char <= '\\u9fff' or u'\\u0039' >= char >= u'\\u0030' or u'\\u005a' >= char >= u'\\u0041' for char in text)\n"
   ]
  },
  {
   "cell_type": "code",
   "execution_count": null,
   "metadata": {},
   "outputs": [],
   "source": [
    "for root, dirs, files in os.walk(docDir):\n",
    "    for name in files:\n",
    "        tempPath = os.path.join(root, name)\n",
    "        if tempPath[-4:] == '.txt':\n",
    "            fileList.append(os.path.join(root, name))\n"
   ]
  },
  {
   "cell_type": "code",
   "execution_count": null,
   "metadata": {},
   "outputs": [],
   "source": [
    "with open(os.path.join(indexDir,'fileList.json'),'w') as fd:\n",
    "    json.dump(fileList,fd,ensure_ascii=False)"
   ]
  },
  {
   "cell_type": "code",
   "execution_count": null,
   "metadata": {},
   "outputs": [],
   "source": [
    "index_dict = {}\n"
   ]
  },
  {
   "cell_type": "code",
   "execution_count": null,
   "metadata": {},
   "outputs": [],
   "source": [
    "for file in fileList:\n",
    "    fd = open(file, \"r\")\n",
    "    lineCount = 1\n",
    "    for line in fd:\n",
    "        seg_list = jieba.lcut_for_search(line)\n",
    "        for word in seg_list:\n",
    "            if validIndex(word):\n",
    "                try:\n",
    "                    index_dict[word]\n",
    "                except:\n",
    "                    index_dict[word] = {}\n",
    "\n",
    "                try:\n",
    "                    index_dict[word][file]\n",
    "                except:\n",
    "                    index_dict[word][file] = []\n",
    "\n",
    "                index_dict[word][file].append(lineCount)\n",
    "        lineCount = lineCount+1\n"
   ]
  },
  {
   "cell_type": "code",
   "execution_count": null,
   "metadata": {},
   "outputs": [],
   "source": [
    "with open(os.path.join(indexDir,'rverIndex.json'), 'w') as jfd:\n",
    "    json.dump(index_dict,jfd,ensure_ascii=False)"
   ]
  },
  {
   "cell_type": "code",
   "execution_count": null,
   "metadata": {},
   "outputs": [],
   "source": [
    "with open(os.path.join(indexDir, 'rverIndex.json'), 'r') as jfd:\n",
    "    tempdict = json.load(jfd)\n",
    "\n",
    "print(tempdict.values())\n"
   ]
  },
  {
   "cell_type": "code",
   "execution_count": null,
   "metadata": {},
   "outputs": [],
   "source": []
  },
  {
   "cell_type": "code",
   "execution_count": null,
   "metadata": {},
   "outputs": [],
   "source": []
  }
 ],
 "metadata": {
  "interpreter": {
   "hash": "c825d74f3e65a07644e86880e93b5d0e0d3aae63d9aa253e729e0e11920a4eb4"
  },
  "kernelspec": {
   "display_name": "Python 3.9.12",
   "language": "python",
   "name": "python3"
  },
  "language_info": {
   "codemirror_mode": {
    "name": "ipython",
    "version": 3
   },
   "file_extension": ".py",
   "mimetype": "text/x-python",
   "name": "python",
   "nbconvert_exporter": "python",
   "pygments_lexer": "ipython3",
   "version": "3.9.13"
  },
  "orig_nbformat": 4
 },
 "nbformat": 4,
 "nbformat_minor": 2
}
