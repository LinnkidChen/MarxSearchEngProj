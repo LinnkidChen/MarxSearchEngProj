{
 "cells": [
  {
   "cell_type": "code",
   "execution_count": null,
   "metadata": {},
   "outputs": [],
   "source": [
    "import os\n",
    "import jieba\n",
    "import json\n"
   ]
  },
  {
   "cell_type": "code",
   "execution_count": null,
   "metadata": {},
   "outputs": [],
   "source": [
    "#DEFINES\n",
    "docDir = '../data/docs'\n",
    "indexDir = '../data/index'\n",
    "fileList = []\n",
    "# docDir = os.path.join(os.path.dirname(os.path.abspath(__file__)), docDir)\n",
    "# indexDir = os.path.join(os.path.dirname(os.path.abspath(__file__)), indexDir)\n"
   ]
  },
  {
   "cell_type": "code",
   "execution_count": null,
   "metadata": {},
   "outputs": [],
   "source": [
    "for root, dirs, files in os.walk(docDir):\n",
    "    for name in files:\n",
    "        tempPath = os.path.join(root, name)\n",
    "        if tempPath[-4:] == '.txt':\n",
    "            fileList.append(os.path.join(root, name))\n"
   ]
  },
  {
   "cell_type": "code",
   "execution_count": null,
   "metadata": {},
   "outputs": [],
   "source": [
    "with open(os.path.join(indexDir,'fileList.json')) as fd:\n",
    "    json.dumps(fileList,fd,ensure_ascii=False)"
   ]
  },
  {
   "cell_type": "code",
   "execution_count": null,
   "metadata": {},
   "outputs": [],
   "source": [
    "index_dict = {}\n",
    "print(1)\n"
   ]
  },
  {
   "cell_type": "code",
   "execution_count": null,
   "metadata": {},
   "outputs": [],
   "source": [
    "for file in fileList:\n",
    "    fd = open(file, \"r\")\n",
    "    lineCount = 1\n",
    "    for line in fd:\n",
    "        seg_list = jieba.lcut_for_search(line)\n",
    "        for word in seg_list:\n",
    "            try:\n",
    "                index_dict[word]\n",
    "            except:\n",
    "                index_dict[word] = {}\n",
    "\n",
    "            try:\n",
    "                index_dict[word][file]\n",
    "            except:\n",
    "                index_dict[word][file] = []\n",
    "\n",
    "            index_dict[word][file].append(lineCount)\n",
    "        lineCount = lineCount+1\n"
   ]
  },
  {
   "cell_type": "code",
   "execution_count": null,
   "metadata": {},
   "outputs": [],
   "source": [
    "with open(os.path.join(indexDir,'rverIndex.json'), 'w') as jfd:\n",
    "    json.dump(index_dict,jfd,ensure_ascii=False)"
   ]
  },
  {
   "cell_type": "code",
   "execution_count": null,
   "metadata": {},
   "outputs": [],
   "source": [
    "with open(os.path.join(indexDir, 'rverIndex.json'), 'r') as jfd:\n",
    "    tempdict = json.load(jfd)\n",
    "\n",
    "print(tempdict)\n"
   ]
  }
 ],
 "metadata": {
  "interpreter": {
   "hash": "b3833e5aba92a3fa47716cfecae221f3ee693b2cd7d1fddae5acff97bc845a18"
  },
  "kernelspec": {
   "display_name": "Python 3.10.4 ('nlp')",
   "language": "python",
   "name": "python3"
  },
  "language_info": {
   "name": "python",
   "version": "3.10.4"
  },
  "orig_nbformat": 4
 },
 "nbformat": 4,
 "nbformat_minor": 2
}
