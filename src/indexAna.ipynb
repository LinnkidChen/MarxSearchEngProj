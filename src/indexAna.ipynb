{
 "cells": [
  {
   "cell_type": "code",
   "execution_count": 1,
   "metadata": {},
   "outputs": [],
   "source": [
    "import json\n",
    "import os\n"
   ]
  },
  {
   "cell_type": "code",
   "execution_count": null,
   "metadata": {},
   "outputs": [],
   "source": [
    "def validIndex(text):\n",
    "    # for python 3.x\n",
    "    # sample: ishan('一') == True, ishan('我&&你') == False\n",
    "    return all('\\u4e00' <= char <= '\\u9fff' or u'\\u0039' >= char >= u'\\u0030' or u'\\u005a' >= char >= u'\\u0041' for char in text)\n"
   ]
  },
  {
   "cell_type": "code",
   "execution_count": 2,
   "metadata": {},
   "outputs": [],
   "source": [
    "\n",
    "indexDir='../data/index'\n",
    "with open(os.path.join(indexDir,'rverIndex.json'), 'r') as jfd:\n",
    "    index_dict=json.load(jfd)"
   ]
  },
  {
   "cell_type": "code",
   "execution_count": null,
   "metadata": {},
   "outputs": [],
   "source": [
    "new_index=index_dict\n",
    "    "
   ]
  },
  {
   "cell_type": "code",
   "execution_count": null,
   "metadata": {},
   "outputs": [],
   "source": [
    "type(list(new_index.keys()))"
   ]
  },
  {
   "cell_type": "code",
   "execution_count": null,
   "metadata": {},
   "outputs": [],
   "source": [
    "print(validIndex(list(new_index.keys())[0]))\n",
    "print(list(new_index.keys())[55])\n"
   ]
  },
  {
   "cell_type": "code",
   "execution_count": null,
   "metadata": {},
   "outputs": [],
   "source": [
    "passage_dict={}\n",
    "passage_name=\n",
    "for word in list(index_dict.keys()):\n",
    "    passage_dict[word]=0\n",
    "    try:\n",
    "        \n",
    "    "
   ]
  }
 ],
 "metadata": {
  "interpreter": {
   "hash": "c825d74f3e65a07644e86880e93b5d0e0d3aae63d9aa253e729e0e11920a4eb4"
  },
  "kernelspec": {
   "display_name": "Python 3.9.12",
   "language": "python",
   "name": "python3"
  },
  "language_info": {
   "codemirror_mode": {
    "name": "ipython",
    "version": 3
   },
   "file_extension": ".py",
   "mimetype": "text/x-python",
   "name": "python",
   "nbconvert_exporter": "python",
   "pygments_lexer": "ipython3",
   "version": "3.9.13"
  },
  "orig_nbformat": 4
 },
 "nbformat": 4,
 "nbformat_minor": 2
}
