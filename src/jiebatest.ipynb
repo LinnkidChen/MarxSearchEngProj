{
 "cells": [
  {
   "cell_type": "code",
   "execution_count": 1,
   "metadata": {},
   "outputs": [],
   "source": [
    "import jieba"
   ]
  },
  {
   "cell_type": "code",
   "execution_count": 2,
   "metadata": {},
   "outputs": [],
   "source": [
    "seg_list = jieba.cut_for_search(\"小明硕士毕业于中国科学院计算所，后在日本京都大学深造\")\n"
   ]
  },
  {
   "cell_type": "code",
   "execution_count": 4,
   "metadata": {},
   "outputs": [
    {
     "name": "stdout",
     "output_type": "stream",
     "text": [
      "['谁', '都', '知道', '，', '尔巴', '巴哈', '费尔巴哈', '把', '基督', '基督教', '关于', '投胎', '降世', '、', '三位', '一体', '三位一体', '、', '永生', '不', '灭', '等等', '的', '观念', '看做', '投胎', '降世', '的', '秘密', '、', '三位', '一体', '三位一体', '的', '秘密', '、', '永生', '不灭', '的', '秘密', '。', '施', '里加', '先生', '则', '把', '现今', '人世', '的', '一切', '关系', '都', '看做', '秘密', '。', '如果', '如果说', '尔巴', '巴哈', '费尔巴哈', '揭露', '了', '现实', '的', '秘密', '，', '那末', '施', '里加', '先生', '却', '反而', '把', '现实', '的', '平凡', '的', '东西', '变成', '了', '秘密', '。', '他', '的', '本领', '不是', '要', '揭露', '被', '掩盖', '的', '东西', '，', '而是', '要', '掩盖', '已经', '被', '揭露', '的', '东西', '。']\n"
     ]
    }
   ],
   "source": [
    "file = open(\"file.txt\",\"r\")\n",
    "for line in file:\n",
    "    seg_list = jieba.cut_for_search(line)\n",
    "    print(list(seg_list))"
   ]
  },
  {
   "cell_type": "markdown",
   "metadata": {},
   "source": []
  },
  {
   "cell_type": "code",
   "execution_count": 3,
   "metadata": {},
   "outputs": [
    {
     "name": "stderr",
     "output_type": "stream",
     "text": [
      "Building prefix dict from the default dictionary ...\n",
      "Dumping model to file cache /var/folders/p6/_c8b5s3d41n6g85lng04xf580000gn/T/jieba.cache\n",
      "Loading model cost 0.438 seconds.\n",
      "Prefix dict has been built successfully.\n"
     ]
    },
    {
     "name": "stdout",
     "output_type": "stream",
     "text": [
      "['小明', '硕士', '毕业', '于', '中国', '科学', '学院', '科学院', '中国科学院', '计算', '计算所', '，', '后', '在', '日本', '京都', '大学', '日本京都大学', '深造']\n"
     ]
    }
   ],
   "source": [
    "print(list(seg_list))"
   ]
  },
  {
   "cell_type": "code",
   "execution_count": null,
   "metadata": {},
   "outputs": [],
   "source": []
  }
 ],
 "metadata": {
  "interpreter": {
   "hash": "b3833e5aba92a3fa47716cfecae221f3ee693b2cd7d1fddae5acff97bc845a18"
  },
  "kernelspec": {
   "display_name": "Python 3.10.4 ('nlp')",
   "language": "python",
   "name": "python3"
  },
  "language_info": {
   "codemirror_mode": {
    "name": "ipython",
    "version": 3
   },
   "file_extension": ".py",
   "mimetype": "text/x-python",
   "name": "python",
   "nbconvert_exporter": "python",
   "pygments_lexer": "ipython3",
   "version": "3.10.4"
  },
  "orig_nbformat": 4
 },
 "nbformat": 4,
 "nbformat_minor": 2
}
