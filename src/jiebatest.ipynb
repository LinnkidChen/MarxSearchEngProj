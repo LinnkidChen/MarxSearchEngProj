{
 "cells": [
  {
   "cell_type": "code",
   "execution_count": 1,
   "metadata": {},
   "outputs": [],
   "source": [
    "import jieba"
   ]
  },
  {
   "cell_type": "code",
   "execution_count": 2,
   "metadata": {},
   "outputs": [],
   "source": [
    "seg_list = jieba.cut_for_search(\"小明硕士毕业于中国科学院计算所，后在日本京都大学深造\")\n"
   ]
  },
  {
   "cell_type": "code",
   "execution_count": 1,
   "metadata": {},
   "outputs": [
    {
     "ename": "FileNotFoundError",
     "evalue": "[Errno 2] No such file or directory: 'file.txt'",
     "output_type": "error",
     "traceback": [
      "\u001b[0;31m---------------------------------------------------------------------------\u001b[0m",
      "\u001b[0;31mFileNotFoundError\u001b[0m                         Traceback (most recent call last)",
      "\u001b[1;32m/Users/tongchen/Library/Mobile Documents/com~apple~CloudDocs/大三/信息与知识获取/Exp2/src/jiebatest.ipynb Cell 3'\u001b[0m in \u001b[0;36m<cell line: 1>\u001b[0;34m()\u001b[0m\n\u001b[0;32m----> <a href='vscode-notebook-cell:/Users/tongchen/Library/Mobile%20Documents/com~apple~CloudDocs/%E5%A4%A7%E4%B8%89/%E4%BF%A1%E6%81%AF%E4%B8%8E%E7%9F%A5%E8%AF%86%E8%8E%B7%E5%8F%96/Exp2/src/jiebatest.ipynb#ch0000002?line=0'>1</a>\u001b[0m file \u001b[39m=\u001b[39m \u001b[39mopen\u001b[39;49m(\u001b[39m\"\u001b[39;49m\u001b[39mfile.txt\u001b[39;49m\u001b[39m\"\u001b[39;49m,\u001b[39m\"\u001b[39;49m\u001b[39mr\u001b[39;49m\u001b[39m\"\u001b[39;49m)\n\u001b[1;32m      <a href='vscode-notebook-cell:/Users/tongchen/Library/Mobile%20Documents/com~apple~CloudDocs/%E5%A4%A7%E4%B8%89/%E4%BF%A1%E6%81%AF%E4%B8%8E%E7%9F%A5%E8%AF%86%E8%8E%B7%E5%8F%96/Exp2/src/jiebatest.ipynb#ch0000002?line=1'>2</a>\u001b[0m \u001b[39mfor\u001b[39;00m line \u001b[39min\u001b[39;00m file:\n\u001b[1;32m      <a href='vscode-notebook-cell:/Users/tongchen/Library/Mobile%20Documents/com~apple~CloudDocs/%E5%A4%A7%E4%B8%89/%E4%BF%A1%E6%81%AF%E4%B8%8E%E7%9F%A5%E8%AF%86%E8%8E%B7%E5%8F%96/Exp2/src/jiebatest.ipynb#ch0000002?line=2'>3</a>\u001b[0m     seg_list \u001b[39m=\u001b[39m jieba\u001b[39m.\u001b[39mlcut_for_search(line)\n",
      "\u001b[0;31mFileNotFoundError\u001b[0m: [Errno 2] No such file or directory: 'file.txt'"
     ]
    }
   ],
   "source": [
    "file = open(\"file.txt\",\"r\")\n",
    "for line in file:\n",
    "    seg_list = jieba.lcut_for_search(line)\n",
    "    print(list(seg_list))"
   ]
  },
  {
   "cell_type": "markdown",
   "metadata": {},
   "source": []
  },
  {
   "cell_type": "code",
   "execution_count": 3,
   "metadata": {},
   "outputs": [
    {
     "name": "stderr",
     "output_type": "stream",
     "text": [
      "Building prefix dict from the default dictionary ...\n",
      "Dumping model to file cache /var/folders/p6/_c8b5s3d41n6g85lng04xf580000gn/T/jieba.cache\n",
      "Loading model cost 0.438 seconds.\n",
      "Prefix dict has been built successfully.\n"
     ]
    },
    {
     "name": "stdout",
     "output_type": "stream",
     "text": [
      "['小明', '硕士', '毕业', '于', '中国', '科学', '学院', '科学院', '中国科学院', '计算', '计算所', '，', '后', '在', '日本', '京都', '大学', '日本京都大学', '深造']\n"
     ]
    }
   ],
   "source": [
    "print(list(seg_list))"
   ]
  },
  {
   "cell_type": "code",
   "execution_count": null,
   "metadata": {},
   "outputs": [],
   "source": []
  }
 ],
 "metadata": {
  "interpreter": {
   "hash": "b3833e5aba92a3fa47716cfecae221f3ee693b2cd7d1fddae5acff97bc845a18"
  },
  "kernelspec": {
   "display_name": "Python 3.10.4 ('nlp')",
   "language": "python",
   "name": "python3"
  },
  "language_info": {
   "codemirror_mode": {
    "name": "ipython",
    "version": 3
   },
   "file_extension": ".py",
   "mimetype": "text/x-python",
   "name": "python",
   "nbconvert_exporter": "python",
   "pygments_lexer": "ipython3",
   "version": "3.10.4"
  },
  "orig_nbformat": 4
 },
 "nbformat": 4,
 "nbformat_minor": 2
}
