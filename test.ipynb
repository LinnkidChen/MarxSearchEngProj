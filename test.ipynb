{
 "cells": [
  {
   "cell_type": "code",
   "execution_count": 36,
   "metadata": {},
   "outputs": [],
   "source": [
    "from src.vector import inputVector\n",
    "import json\n",
    "from src.file_word_freq import get_file_word_freq2\n",
    "import numpy as np\n",
    "from sklearn.preprocessing import normalize\n"
   ]
  },
  {
   "cell_type": "code",
   "execution_count": 37,
   "metadata": {},
   "outputs": [],
   "source": [
    "#input 共产党理念资本不是本人"
   ]
  },
  {
   "cell_type": "code",
   "execution_count": 38,
   "metadata": {},
   "outputs": [],
   "source": [
    "def norm_l1( array):\n",
    "    x = normalize(array,norm='l1')\n",
    "    return x\n",
    "    "
   ]
  },
  {
   "cell_type": "code",
   "execution_count": 39,
   "metadata": {},
   "outputs": [],
   "source": [
    "def norm_l2(array):\n",
    "    x = normalize(array, norm='l2')\n",
    "    return x\n"
   ]
  },
  {
   "cell_type": "code",
   "execution_count": 41,
   "metadata": {},
   "outputs": [],
   "source": [
    "inputvec = inputVector()\n",
    "inputvec = list(inputvec.values())\n",
    "inputvec = np.array(inputvec).reshape(-1, 1)\n",
    "# path = './data/index/fileFreq.json'\n",
    "# with open(path, 'r') as dataset:\n",
    "#     filevec = json.load(dataset)\n"
   ]
  },
  {
   "cell_type": "code",
   "execution_count": 42,
   "metadata": {},
   "outputs": [],
   "source": [
    "file_word_freq = get_file_word_freq2(\n",
    "    \"./data/index/rverIndex.json\")\n",
    "\n"
   ]
  },
  {
   "cell_type": "code",
   "execution_count": 43,
   "metadata": {},
   "outputs": [],
   "source": [
    "for filename in file_word_freq.keys():\n",
    "    file_word_freq[filename]=file_word_freq[filename].values()\n",
    "    file_word_freq[filename] = list(file_word_freq[filename])\n",
    "\n",
    "# print(file_word_freq['../data/docs/马克思/马克思-共产党宣言.txt'])\n"
   ]
  },
  {
   "cell_type": "code",
   "execution_count": 44,
   "metadata": {},
   "outputs": [],
   "source": [
    "\n",
    "fileFreqArr=np.array(list(file_word_freq.values()))"
   ]
  },
  {
   "cell_type": "code",
   "execution_count": 45,
   "metadata": {},
   "outputs": [],
   "source": [
    "fileFreqArr_norm = norm_l1(fileFreqArr)\n",
    "inputvec_norm=norm_l2(inputvec)"
   ]
  },
  {
   "cell_type": "code",
   "execution_count": 46,
   "metadata": {},
   "outputs": [],
   "source": [
    "relVec=fileFreqArr.dot(inputvec)"
   ]
  },
  {
   "cell_type": "code",
   "execution_count": 47,
   "metadata": {},
   "outputs": [],
   "source": [
    "relVec_norm=fileFreqArr_norm.dot(inputvec_norm)"
   ]
  },
  {
   "cell_type": "code",
   "execution_count": 50,
   "metadata": {},
   "outputs": [
    {
     "data": {
      "text/plain": [
       "0.02328389099689548"
      ]
     },
     "execution_count": 50,
     "metadata": {},
     "output_type": "execute_result"
    }
   ],
   "source": []
  },
  {
   "cell_type": "code",
   "execution_count": null,
   "metadata": {},
   "outputs": [],
   "source": []
  }
 ],
 "metadata": {
  "interpreter": {
   "hash": "d804a94a7987a11c9b3c94df009f86673dd0b70be492a9b038225f917bfb46de"
  },
  "kernelspec": {
   "display_name": "Python 3.8.12 ('coremltool_env')",
   "language": "python",
   "name": "python3"
  },
  "language_info": {
   "codemirror_mode": {
    "name": "ipython",
    "version": 3
   },
   "file_extension": ".py",
   "mimetype": "text/x-python",
   "name": "python",
   "nbconvert_exporter": "python",
   "pygments_lexer": "ipython3",
   "version": "3.8.12"
  },
  "orig_nbformat": 4
 },
 "nbformat": 4,
 "nbformat_minor": 2
}
